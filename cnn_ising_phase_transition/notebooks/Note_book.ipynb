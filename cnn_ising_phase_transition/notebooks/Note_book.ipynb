{
 "cells": [
  {
   "cell_type": "code",
   "execution_count": 1,
   "metadata": {},
   "outputs": [
    {
     "name": "stdout",
     "output_type": "stream",
     "text": [
      "Collecting cookiecutter\n",
      "  Downloading cookiecutter-2.6.0-py3-none-any.whl.metadata (7.3 kB)\n",
      "Collecting binaryornot>=0.4.4 (from cookiecutter)\n",
      "  Downloading binaryornot-0.4.4-py2.py3-none-any.whl.metadata (6.0 kB)\n",
      "Collecting Jinja2<4.0.0,>=2.7 (from cookiecutter)\n",
      "  Downloading jinja2-3.1.5-py3-none-any.whl.metadata (2.6 kB)\n",
      "Collecting click<9.0.0,>=7.0 (from cookiecutter)\n",
      "  Downloading click-8.1.8-py3-none-any.whl.metadata (2.3 kB)\n",
      "Collecting pyyaml>=5.3.1 (from cookiecutter)\n",
      "  Downloading PyYAML-6.0.2-cp39-cp39-macosx_11_0_arm64.whl.metadata (2.1 kB)\n",
      "Collecting python-slugify>=4.0.0 (from cookiecutter)\n",
      "  Downloading python_slugify-8.0.4-py2.py3-none-any.whl.metadata (8.5 kB)\n",
      "Collecting requests>=2.23.0 (from cookiecutter)\n",
      "  Downloading requests-2.32.3-py3-none-any.whl.metadata (4.6 kB)\n",
      "Collecting arrow (from cookiecutter)\n",
      "  Downloading arrow-1.3.0-py3-none-any.whl.metadata (7.5 kB)\n",
      "Collecting rich (from cookiecutter)\n",
      "  Downloading rich-13.9.4-py3-none-any.whl.metadata (18 kB)\n",
      "Collecting chardet>=3.0.2 (from binaryornot>=0.4.4->cookiecutter)\n",
      "  Downloading chardet-5.2.0-py3-none-any.whl.metadata (3.4 kB)\n",
      "Collecting MarkupSafe>=2.0 (from Jinja2<4.0.0,>=2.7->cookiecutter)\n",
      "  Downloading MarkupSafe-3.0.2-cp39-cp39-macosx_11_0_arm64.whl.metadata (4.0 kB)\n",
      "Collecting text-unidecode>=1.3 (from python-slugify>=4.0.0->cookiecutter)\n",
      "  Downloading text_unidecode-1.3-py2.py3-none-any.whl.metadata (2.4 kB)\n",
      "Collecting charset-normalizer<4,>=2 (from requests>=2.23.0->cookiecutter)\n",
      "  Downloading charset_normalizer-3.4.1-cp39-cp39-macosx_10_9_universal2.whl.metadata (35 kB)\n",
      "Collecting idna<4,>=2.5 (from requests>=2.23.0->cookiecutter)\n",
      "  Downloading idna-3.10-py3-none-any.whl.metadata (10 kB)\n",
      "Collecting urllib3<3,>=1.21.1 (from requests>=2.23.0->cookiecutter)\n",
      "  Downloading urllib3-2.3.0-py3-none-any.whl.metadata (6.5 kB)\n",
      "Collecting certifi>=2017.4.17 (from requests>=2.23.0->cookiecutter)\n",
      "  Downloading certifi-2025.1.31-py3-none-any.whl.metadata (2.5 kB)\n",
      "Requirement already satisfied: python-dateutil>=2.7.0 in ./.venv/lib/python3.9/site-packages (from arrow->cookiecutter) (2.9.0.post0)\n",
      "Collecting types-python-dateutil>=2.8.10 (from arrow->cookiecutter)\n",
      "  Downloading types_python_dateutil-2.9.0.20241206-py3-none-any.whl.metadata (2.1 kB)\n",
      "Collecting markdown-it-py>=2.2.0 (from rich->cookiecutter)\n",
      "  Downloading markdown_it_py-3.0.0-py3-none-any.whl.metadata (6.9 kB)\n",
      "Requirement already satisfied: pygments<3.0.0,>=2.13.0 in ./.venv/lib/python3.9/site-packages (from rich->cookiecutter) (2.19.1)\n",
      "Requirement already satisfied: typing-extensions<5.0,>=4.0.0 in ./.venv/lib/python3.9/site-packages (from rich->cookiecutter) (4.12.2)\n",
      "Collecting mdurl~=0.1 (from markdown-it-py>=2.2.0->rich->cookiecutter)\n",
      "  Downloading mdurl-0.1.2-py3-none-any.whl.metadata (1.6 kB)\n",
      "Requirement already satisfied: six>=1.5 in ./.venv/lib/python3.9/site-packages (from python-dateutil>=2.7.0->arrow->cookiecutter) (1.17.0)\n",
      "Downloading cookiecutter-2.6.0-py3-none-any.whl (39 kB)\n",
      "Downloading binaryornot-0.4.4-py2.py3-none-any.whl (9.0 kB)\n",
      "Downloading click-8.1.8-py3-none-any.whl (98 kB)\n",
      "Downloading jinja2-3.1.5-py3-none-any.whl (134 kB)\n",
      "Downloading python_slugify-8.0.4-py2.py3-none-any.whl (10 kB)\n",
      "Downloading PyYAML-6.0.2-cp39-cp39-macosx_11_0_arm64.whl (172 kB)\n",
      "Downloading requests-2.32.3-py3-none-any.whl (64 kB)\n",
      "Downloading arrow-1.3.0-py3-none-any.whl (66 kB)\n",
      "Downloading rich-13.9.4-py3-none-any.whl (242 kB)\n",
      "Downloading certifi-2025.1.31-py3-none-any.whl (166 kB)\n",
      "Downloading chardet-5.2.0-py3-none-any.whl (199 kB)\n",
      "Downloading charset_normalizer-3.4.1-cp39-cp39-macosx_10_9_universal2.whl (197 kB)\n",
      "Downloading idna-3.10-py3-none-any.whl (70 kB)\n",
      "Downloading markdown_it_py-3.0.0-py3-none-any.whl (87 kB)\n",
      "Downloading MarkupSafe-3.0.2-cp39-cp39-macosx_11_0_arm64.whl (12 kB)\n",
      "Downloading text_unidecode-1.3-py2.py3-none-any.whl (78 kB)\n",
      "Downloading types_python_dateutil-2.9.0.20241206-py3-none-any.whl (14 kB)\n",
      "Downloading urllib3-2.3.0-py3-none-any.whl (128 kB)\n",
      "Downloading mdurl-0.1.2-py3-none-any.whl (10.0 kB)\n",
      "Installing collected packages: text-unidecode, urllib3, types-python-dateutil, pyyaml, python-slugify, mdurl, MarkupSafe, idna, click, charset-normalizer, chardet, certifi, requests, markdown-it-py, Jinja2, binaryornot, arrow, rich, cookiecutter\n",
      "Successfully installed Jinja2-3.1.5 MarkupSafe-3.0.2 arrow-1.3.0 binaryornot-0.4.4 certifi-2025.1.31 chardet-5.2.0 charset-normalizer-3.4.1 click-8.1.8 cookiecutter-2.6.0 idna-3.10 markdown-it-py-3.0.0 mdurl-0.1.2 python-slugify-8.0.4 pyyaml-6.0.2 requests-2.32.3 rich-13.9.4 text-unidecode-1.3 types-python-dateutil-2.9.0.20241206 urllib3-2.3.0\n"
     ]
    }
   ],
   "source": [
    "!pip3 install cookiecutter"
   ]
  },
  {
   "cell_type": "code",
   "execution_count": 8,
   "metadata": {},
   "outputs": [
    {
     "name": "stdout",
     "output_type": "stream",
     "text": [
      "\n",
      "\n",
      "=============================================================================\n",
      "*** DEPRECATION WARNING ***\n",
      "\n",
      "Cookiecutter data science is moving to v2 soon, which will entail using\n",
      "the command `ccds ...` rather than `cookiecutter ...`. The cookiecutter command\n",
      "will continue to work, and this version of the template will still be available.\n",
      "To use the legacy template, you will need to explicitly use `-c v1` to select it.\n",
      "\n",
      "Please update any scripts/automation you have to append the `-c v1` option,\n",
      "which is available now.\n",
      "\n",
      "For example:\n",
      "    cookiecutter -c v1 https://github.com/drivendata/cookiecutter-data-science\n",
      "=============================================================================\n",
      "\n",
      "    \n"
     ]
    },
    {
     "data": {
      "text/plain": [
       "'/Users/haowuduan/Desktop/CNN_Ising_phase_transition/cnn_ising_phase_transition'"
      ]
     },
     "execution_count": 8,
     "metadata": {},
     "output_type": "execute_result"
    }
   ],
   "source": [
    "from cookiecutter.main import cookiecutter\n",
    "\n",
    "cookiecutter(\n",
    "    'https://github.com/drivendata/cookiecutter-data-science',\n",
    "    no_input=True,\n",
    "    checkout='v1',  # Explicitly use the v1 branch for compatibility\n",
    "    extra_context={\n",
    "        'project_name': 'ISING',\n",
    "        'repo_name': 'cnn_ising_phase_transition',  # use a lowercase, underscored name\n",
    "        'author_name': 'HAOWU_DUAN',\n",
    "        'description': 'A project for CNN classification of Ising phase transitions',\n",
    "        'python_version': '3.9',\n",
    "        'open_source_license': 'MIT'\n",
    "    }\n",
    ")\n"
   ]
  },
  {
   "cell_type": "code",
   "execution_count": null,
   "metadata": {},
   "outputs": [],
   "source": []
  },
  {
   "cell_type": "code",
   "execution_count": null,
   "metadata": {},
   "outputs": [],
   "source": []
  }
 ],
 "metadata": {
  "kernelspec": {
   "display_name": ".venv",
   "language": "python",
   "name": "python3"
  },
  "language_info": {
   "codemirror_mode": {
    "name": "ipython",
    "version": 3
   },
   "file_extension": ".py",
   "mimetype": "text/x-python",
   "name": "python",
   "nbconvert_exporter": "python",
   "pygments_lexer": "ipython3",
   "version": "3.9.6"
  }
 },
 "nbformat": 4,
 "nbformat_minor": 2
}
